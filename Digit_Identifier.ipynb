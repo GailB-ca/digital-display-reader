{
  "nbformat": 4,
  "nbformat_minor": 0,
  "metadata": {
    "colab": {
      "name": "Digit Identifier.ipynb",
      "provenance": [],
      "machine_shape": "hm",
      "authorship_tag": "ABX9TyMxmFm8H5nNX3+3x2EtrHfl",
      "include_colab_link": true
    },
    "kernelspec": {
      "name": "python3",
      "display_name": "Python 3"
    },
    "accelerator": "GPU"
  },
  "cells": [
    {
      "cell_type": "markdown",
      "metadata": {
        "id": "view-in-github",
        "colab_type": "text"
      },
      "source": [
        "<a href=\"https://colab.research.google.com/github/GailB-ca/digital-display-reader/blob/main/Digit_Identifier.ipynb\" target=\"_parent\"><img src=\"https://colab.research.google.com/assets/colab-badge.svg\" alt=\"Open In Colab\"/></a>"
      ]
    },
    {
      "cell_type": "code",
      "metadata": {
        "id": "ZCxwe46WT79P",
        "colab": {
          "base_uri": "https://localhost:8080/"
        },
        "outputId": "b37839bd-d4e8-492c-9cd4-29f30027ad2b"
      },
      "source": [
        "%tensorflow_version 2.x\n",
        "import tensorflow as tf\n",
        "device_name = tf.test.gpu_device_name()\n",
        "if device_name != '/device:GPU:0':\n",
        "  raise SystemError('GPU device not found')\n",
        "print('Found GPU at: {}'.format(device_name))"
      ],
      "execution_count": null,
      "outputs": [
        {
          "output_type": "stream",
          "text": [
            "Found GPU at: /device:GPU:0\n"
          ],
          "name": "stdout"
        }
      ]
    },
    {
      "cell_type": "code",
      "metadata": {
        "id": "oAW80VThW5LG"
      },
      "source": [
        "from tensorflow.keras import models\n",
        "from tensorflow.keras import layers\n",
        "from tensorflow.keras.utils import to_categorical\n",
        "from tensorflow.keras.applications import ResNet50\n",
        "from tensorflow.keras import Input\n",
        "from tensorflow.keras.preprocessing.image import ImageDataGenerator\n",
        "from sklearn.model_selection import train_test_split\n",
        "from tensorflow.keras import datasets\n",
        "from tensorflow.keras.optimizers import Adam\n",
        "import tensorflow as tf\n",
        "\n",
        "import pickle\n",
        "import numpy as np\n",
        "from google.colab import drive\n"
      ],
      "execution_count": null,
      "outputs": []
    },
    {
      "cell_type": "code",
      "metadata": {
        "id": "guC5BWyqIL8j"
      },
      "source": [
        "config = tf.compat.v1.ConfigProto()\n",
        "config.gpu_options.allow_growth = True\n",
        "with tf.compat.v1.Session(config=config):\n",
        "    pass  # init sessin with allow_growth\n"
      ],
      "execution_count": null,
      "outputs": []
    },
    {
      "cell_type": "code",
      "metadata": {
        "colab": {
          "base_uri": "https://localhost:8080/"
        },
        "id": "EnH7bxO8XXEa",
        "outputId": "2e70cff1-a098-48fe-9ebf-53ce93adb94e"
      },
      "source": [
        "drive.mount('/content/drive')"
      ],
      "execution_count": null,
      "outputs": [
        {
          "output_type": "stream",
          "text": [
            "Drive already mounted at /content/drive; to attempt to forcibly remount, call drive.mount(\"/content/drive\", force_remount=True).\n"
          ],
          "name": "stdout"
        }
      ]
    },
    {
      "cell_type": "code",
      "metadata": {
        "id": "o5YlSTKzXFQn"
      },
      "source": [
        "filename = \"/content/drive/MyDrive/Colab Notebooks/training_df.pk\"\n",
        "training_numbers_df = pickle.load(open(filename, 'rb'))"
      ],
      "execution_count": null,
      "outputs": []
    },
    {
      "cell_type": "code",
      "metadata": {
        "colab": {
          "base_uri": "https://localhost:8080/",
          "height": 477
        },
        "id": "M3xhLmPBXGw2",
        "outputId": "7812dbf2-88c5-4177-c2b8-9416d1938f0c"
      },
      "source": [
        "training_numbers_df.head()"
      ],
      "execution_count": null,
      "outputs": [
        {
          "output_type": "execute_result",
          "data": {
            "text/html": [
              "<div>\n",
              "<style scoped>\n",
              "    .dataframe tbody tr th:only-of-type {\n",
              "        vertical-align: middle;\n",
              "    }\n",
              "\n",
              "    .dataframe tbody tr th {\n",
              "        vertical-align: top;\n",
              "    }\n",
              "\n",
              "    .dataframe thead th {\n",
              "        text-align: right;\n",
              "    }\n",
              "</style>\n",
              "<table border=\"1\" class=\"dataframe\">\n",
              "  <thead>\n",
              "    <tr style=\"text-align: right;\">\n",
              "      <th></th>\n",
              "      <th>box_order</th>\n",
              "      <th>class</th>\n",
              "      <th>image_id</th>\n",
              "      <th>image_path</th>\n",
              "      <th>xmax</th>\n",
              "      <th>xmin</th>\n",
              "      <th>ymax</th>\n",
              "      <th>ymin</th>\n",
              "      <th>width</th>\n",
              "      <th>height</th>\n",
              "      <th>portrait</th>\n",
              "      <th>img_num_arr</th>\n",
              "      <th>img_num_width</th>\n",
              "      <th>img_num_height</th>\n",
              "      <th>img_num_arr_resize</th>\n",
              "      <th>img_num_resize_height</th>\n",
              "      <th>class_arr</th>\n",
              "      <th>img_num_arr_resize_3d</th>\n",
              "    </tr>\n",
              "  </thead>\n",
              "  <tbody>\n",
              "    <tr>\n",
              "      <th>0</th>\n",
              "      <td>0.0</td>\n",
              "      <td>1</td>\n",
              "      <td>0.0</td>\n",
              "      <td>/Users/gbishop/lighthouse/data_bootcamp/digita...</td>\n",
              "      <td>2166</td>\n",
              "      <td>1740</td>\n",
              "      <td>2070</td>\n",
              "      <td>1799</td>\n",
              "      <td>426</td>\n",
              "      <td>271</td>\n",
              "      <td>0</td>\n",
              "      <td>[[255, 255, 255, 255, 255, 255, 255, 255, 255,...</td>\n",
              "      <td>271</td>\n",
              "      <td>426</td>\n",
              "      <td>[[255, 255, 255, 255, 255, 255, 255, 255, 255,...</td>\n",
              "      <td>628</td>\n",
              "      <td>[1]</td>\n",
              "      <td>[[[255], [255], [255], [255], [255], [255], [2...</td>\n",
              "    </tr>\n",
              "    <tr>\n",
              "      <th>1</th>\n",
              "      <td>1.0</td>\n",
              "      <td>5</td>\n",
              "      <td>0.0</td>\n",
              "      <td>/Users/gbishop/lighthouse/data_bootcamp/digita...</td>\n",
              "      <td>2186</td>\n",
              "      <td>1710</td>\n",
              "      <td>1775</td>\n",
              "      <td>1514</td>\n",
              "      <td>476</td>\n",
              "      <td>261</td>\n",
              "      <td>0</td>\n",
              "      <td>[[255, 255, 255, 255, 255, 255, 255, 255, 255,...</td>\n",
              "      <td>261</td>\n",
              "      <td>476</td>\n",
              "      <td>[[255, 255, 255, 255, 255, 255, 255, 255, 255,...</td>\n",
              "      <td>729</td>\n",
              "      <td>[5]</td>\n",
              "      <td>[[[255], [255], [255], [255], [255], [255], [2...</td>\n",
              "    </tr>\n",
              "    <tr>\n",
              "      <th>2</th>\n",
              "      <td>2.0</td>\n",
              "      <td>0</td>\n",
              "      <td>0.0</td>\n",
              "      <td>/Users/gbishop/lighthouse/data_bootcamp/digita...</td>\n",
              "      <td>2131</td>\n",
              "      <td>1690</td>\n",
              "      <td>1535</td>\n",
              "      <td>1194</td>\n",
              "      <td>441</td>\n",
              "      <td>341</td>\n",
              "      <td>0</td>\n",
              "      <td>[[255, 255, 255, 255, 255, 255, 255, 255, 255,...</td>\n",
              "      <td>341</td>\n",
              "      <td>441</td>\n",
              "      <td>[[255, 255, 255, 255, 255, 255, 255, 255, 255,...</td>\n",
              "      <td>517</td>\n",
              "      <td>[0]</td>\n",
              "      <td>[[[255], [255], [255], [255], [255], [255], [2...</td>\n",
              "    </tr>\n",
              "    <tr>\n",
              "      <th>3</th>\n",
              "      <td>3.0</td>\n",
              "      <td>9</td>\n",
              "      <td>0.0</td>\n",
              "      <td>/Users/gbishop/lighthouse/data_bootcamp/digita...</td>\n",
              "      <td>2661</td>\n",
              "      <td>2165</td>\n",
              "      <td>1785</td>\n",
              "      <td>1469</td>\n",
              "      <td>496</td>\n",
              "      <td>316</td>\n",
              "      <td>0</td>\n",
              "      <td>[[255, 255, 255, 255, 255, 255, 255, 255, 255,...</td>\n",
              "      <td>316</td>\n",
              "      <td>496</td>\n",
              "      <td>[[255, 255, 255, 255, 255, 255, 255, 255, 255,...</td>\n",
              "      <td>627</td>\n",
              "      <td>[9]</td>\n",
              "      <td>[[[255], [255], [255], [255], [255], [255], [2...</td>\n",
              "    </tr>\n",
              "    <tr>\n",
              "      <th>4</th>\n",
              "      <td>4.0</td>\n",
              "      <td>4</td>\n",
              "      <td>0.0</td>\n",
              "      <td>/Users/gbishop/lighthouse/data_bootcamp/digita...</td>\n",
              "      <td>2601</td>\n",
              "      <td>2135</td>\n",
              "      <td>1455</td>\n",
              "      <td>1154</td>\n",
              "      <td>466</td>\n",
              "      <td>301</td>\n",
              "      <td>0</td>\n",
              "      <td>[[255, 255, 255, 255, 255, 255, 255, 255, 255,...</td>\n",
              "      <td>301</td>\n",
              "      <td>466</td>\n",
              "      <td>[[255, 255, 255, 255, 255, 255, 255, 255, 255,...</td>\n",
              "      <td>619</td>\n",
              "      <td>[4]</td>\n",
              "      <td>[[[255], [255], [255], [255], [255], [255], [2...</td>\n",
              "    </tr>\n",
              "  </tbody>\n",
              "</table>\n",
              "</div>"
            ],
            "text/plain": [
              "   box_order class  ...  class_arr                              img_num_arr_resize_3d\n",
              "0        0.0     1  ...        [1]  [[[255], [255], [255], [255], [255], [255], [2...\n",
              "1        1.0     5  ...        [5]  [[[255], [255], [255], [255], [255], [255], [2...\n",
              "2        2.0     0  ...        [0]  [[[255], [255], [255], [255], [255], [255], [2...\n",
              "3        3.0     9  ...        [9]  [[[255], [255], [255], [255], [255], [255], [2...\n",
              "4        4.0     4  ...        [4]  [[[255], [255], [255], [255], [255], [255], [2...\n",
              "\n",
              "[5 rows x 18 columns]"
            ]
          },
          "metadata": {
            "tags": []
          },
          "execution_count": 7
        }
      ]
    },
    {
      "cell_type": "code",
      "metadata": {
        "id": "vGyiBao9XyDa"
      },
      "source": [
        "#baseModel = ResNet50(weights='imagenet', include_top=False,\n",
        "baseModel = ResNet50(weights=None, include_top=True,\n",
        "                    input_tensor=Input(shape=(600, 400, 3)),\n",
        "                    classes=10)"
      ],
      "execution_count": null,
      "outputs": []
    },
    {
      "cell_type": "code",
      "metadata": {
        "id": "RUh1DXI6X45v"
      },
      "source": [
        "# initialize the training training data augmentation object\n",
        "trainAug = ImageDataGenerator(\n",
        "    rescale=1/255.0,\n",
        "    rotation_range=25,\n",
        "    zoom_range=0.1,\n",
        "    width_shift_range=0.1,\n",
        "    height_shift_range=0.1,\n",
        "    shear_range=0.2,\n",
        "    horizontal_flip=False,\n",
        "    fill_mode=\"nearest\",\n",
        "    validation_split=0.2)\n",
        "\n",
        "testAug = ImageDataGenerator()"
      ],
      "execution_count": null,
      "outputs": []
    },
    {
      "cell_type": "code",
      "metadata": {
        "id": "-fXwVs3rX-gw"
      },
      "source": [
        "X = np.array(training_numbers_df['img_num_arr_resize'].values.tolist())\n",
        "Y = np.array(training_numbers_df['class_arr'].values.tolist())"
      ],
      "execution_count": null,
      "outputs": []
    },
    {
      "cell_type": "code",
      "metadata": {
        "id": "ChMEfh6GYCQe"
      },
      "source": [
        "X_train, X_test, Y_train, Y_test = train_test_split(X, Y, test_size=0.2)"
      ],
      "execution_count": null,
      "outputs": []
    },
    {
      "cell_type": "code",
      "metadata": {
        "id": "d3fm9jcUJ_4E"
      },
      "source": [
        "X_train = tf.keras.applications.resnet50.preprocess_input(X_train)\n",
        "Y_train = tf.keras.utils.to_categorical(Y_train)"
      ],
      "execution_count": null,
      "outputs": []
    },
    {
      "cell_type": "code",
      "metadata": {
        "id": "Fa3X-zkXXFvo"
      },
      "source": [
        "learning_rate = 1e-4\n",
        "num_epochs = 5\n",
        "batch_size=16"
      ],
      "execution_count": null,
      "outputs": []
    },
    {
      "cell_type": "code",
      "metadata": {
        "id": "SF-VOHIfYEY9"
      },
      "source": [
        "trainGen = trainAug.flow(X_train, Y_train, batch_size=batch_size, subset=\"training\")\n",
        "valGen = trainAug.flow(X_train, Y_train, batch_size=batch_size, subset=\"validation\")\n",
        "testGen = testAug.flow(X_test, Y_test, batch_size=batch_size)"
      ],
      "execution_count": null,
      "outputs": []
    },
    {
      "cell_type": "code",
      "metadata": {
        "colab": {
          "base_uri": "https://localhost:8080/"
        },
        "id": "u9VuKlRUbRtT",
        "outputId": "4e209f51-ce40-4c51-e5c8-4bd7d4fbc5c0"
      },
      "source": [
        "print(\"Size of Training Data: \", trainGen.n)"
      ],
      "execution_count": null,
      "outputs": [
        {
          "output_type": "stream",
          "text": [
            "Size of Training Data:  695\n"
          ],
          "name": "stdout"
        }
      ]
    },
    {
      "cell_type": "code",
      "metadata": {
        "id": "ZO_GU_oXYMRN"
      },
      "source": [
        "opt = Adam(lr=learning_rate, \n",
        "           decay=learning_rate / num_epochs)\n",
        "baseModel.compile(loss=\"binary_crossentropy\", optimizer=opt, metrics=[\"accuracy\"])"
      ],
      "execution_count": null,
      "outputs": []
    },
    {
      "cell_type": "code",
      "metadata": {
        "colab": {
          "base_uri": "https://localhost:8080/"
        },
        "id": "R3UV0qPve6ki",
        "outputId": "b75984bf-b906-4555-f554-26297434fb30"
      },
      "source": [
        "print(\"Steps per epoch\", trainGen.n // batch_size)\n",
        "print(\"Number of epochs\", num_epochs)\n",
        "print(\"Validation data\", valGen.n)"
      ],
      "execution_count": null,
      "outputs": [
        {
          "output_type": "stream",
          "text": [
            "Steps per epoch 43\n",
            "Number of epochs 5\n",
            "Validation data 173\n"
          ],
          "name": "stdout"
        }
      ]
    },
    {
      "cell_type": "code",
      "metadata": {
        "colab": {
          "base_uri": "https://localhost:8080/"
        },
        "id": "mPp9VkwYYOMM",
        "outputId": "6d6ecb88-ad91-491a-a044-53291d16fe55"
      },
      "source": [
        "baseModel.fit_generator(trainGen,\n",
        "                   steps_per_epoch=trainGen.n // batch_size, \n",
        "                   epochs=num_epochs,\n",
        "                   validation_data=valGen,\n",
        "                   validation_steps=valGen.n // batch_size,\n",
        "                   verbose=1)"
      ],
      "execution_count": null,
      "outputs": [
        {
          "output_type": "stream",
          "text": [
            "/usr/local/lib/python3.7/dist-packages/tensorflow/python/keras/engine/training.py:1844: UserWarning: `Model.fit_generator` is deprecated and will be removed in a future version. Please use `Model.fit`, which supports generators.\n",
            "  warnings.warn('`Model.fit_generator` is deprecated and '\n"
          ],
          "name": "stderr"
        },
        {
          "output_type": "stream",
          "text": [
            "Epoch 1/5\n",
            "43/43 [==============================] - 44s 1s/step - loss: 0.0800 - accuracy: 0.9013 - val_loss: 0.1991 - val_accuracy: 0.6687\n",
            "Epoch 2/5\n",
            "43/43 [==============================] - 44s 1s/step - loss: 0.0679 - accuracy: 0.9249 - val_loss: 0.1566 - val_accuracy: 0.7625\n",
            "Epoch 3/5\n",
            "43/43 [==============================] - 43s 993ms/step - loss: 0.0681 - accuracy: 0.9146 - val_loss: 0.1252 - val_accuracy: 0.8250\n",
            "Epoch 4/5\n",
            "43/43 [==============================] - 44s 1s/step - loss: 0.0629 - accuracy: 0.9219 - val_loss: 0.3604 - val_accuracy: 0.6187\n",
            "Epoch 5/5\n",
            "43/43 [==============================] - 44s 1s/step - loss: 0.0515 - accuracy: 0.9558 - val_loss: 0.0844 - val_accuracy: 0.8875\n"
          ],
          "name": "stdout"
        },
        {
          "output_type": "execute_result",
          "data": {
            "text/plain": [
              "<tensorflow.python.keras.callbacks.History at 0x7f15b3e8de10>"
            ]
          },
          "metadata": {
            "tags": []
          },
          "execution_count": 58
        }
      ]
    },
    {
      "cell_type": "code",
      "metadata": {
        "id": "UsurCzI6YQ-s"
      },
      "source": [
        ""
      ],
      "execution_count": null,
      "outputs": []
    }
  ]
}