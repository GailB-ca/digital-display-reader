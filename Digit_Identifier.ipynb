{
  "nbformat": 4,
  "nbformat_minor": 0,
  "metadata": {
    "colab": {
      "name": "Digit Identifier.ipynb",
      "provenance": [],
      "collapsed_sections": [],
      "machine_shape": "hm",
      "authorship_tag": "ABX9TyNWsskZLncf9O1pI19JqjHS",
      "include_colab_link": true
    },
    "kernelspec": {
      "name": "python3",
      "display_name": "Python 3"
    },
    "accelerator": "GPU"
  },
  "cells": [
    {
      "cell_type": "markdown",
      "metadata": {
        "id": "view-in-github",
        "colab_type": "text"
      },
      "source": [
        "<a href=\"https://colab.research.google.com/github/GailB-ca/digital-display-reader/blob/main/Digit_Identifier.ipynb\" target=\"_parent\"><img src=\"https://colab.research.google.com/assets/colab-badge.svg\" alt=\"Open In Colab\"/></a>"
      ]
    },
    {
      "cell_type": "code",
      "metadata": {
        "id": "ZCxwe46WT79P",
        "colab": {
          "base_uri": "https://localhost:8080/"
        },
        "outputId": "95e183b3-02de-4b26-c8da-00e9abb00983"
      },
      "source": [
        "%tensorflow_version 2.x\n",
        "import tensorflow as tf\n",
        "device_name = tf.test.gpu_device_name()\n",
        "if device_name != '/device:GPU:0':\n",
        "  raise SystemError('GPU device not found')\n",
        "print('Found GPU at: {}'.format(device_name))"
      ],
      "execution_count": null,
      "outputs": [
        {
          "output_type": "stream",
          "text": [
            "Found GPU at: /device:GPU:0\n"
          ],
          "name": "stdout"
        }
      ]
    },
    {
      "cell_type": "code",
      "metadata": {
        "id": "oAW80VThW5LG"
      },
      "source": [
        "from tensorflow.keras import models\n",
        "from tensorflow.keras import layers\n",
        "from tensorflow.keras.utils import to_categorical\n",
        "from tensorflow.keras.applications import ResNet50\n",
        "from tensorflow.keras import Input\n",
        "from tensorflow.keras.preprocessing.image import ImageDataGenerator\n",
        "from sklearn.model_selection import train_test_split\n",
        "from tensorflow.keras import datasets\n",
        "from tensorflow.keras.optimizers import Adam\n",
        "import tensorflow as tf\n",
        "\n",
        "import pickle\n",
        "import numpy as np\n",
        "from matplotlib import pyplot as plt\n",
        "\n",
        "from google.colab import drive\n"
      ],
      "execution_count": null,
      "outputs": []
    },
    {
      "cell_type": "code",
      "metadata": {
        "id": "guC5BWyqIL8j"
      },
      "source": [
        "config = tf.compat.v1.ConfigProto()\n",
        "config.gpu_options.allow_growth = True\n",
        "with tf.compat.v1.Session(config=config):\n",
        "    pass  # init sessin with allow_growth\n"
      ],
      "execution_count": null,
      "outputs": []
    },
    {
      "cell_type": "code",
      "metadata": {
        "colab": {
          "base_uri": "https://localhost:8080/"
        },
        "id": "EnH7bxO8XXEa",
        "outputId": "de1f8f86-2dbe-46a1-9eec-6055fb3100ea"
      },
      "source": [
        "drive.mount('/content/drive')"
      ],
      "execution_count": null,
      "outputs": [
        {
          "output_type": "stream",
          "text": [
            "Drive already mounted at /content/drive; to attempt to forcibly remount, call drive.mount(\"/content/drive\", force_remount=True).\n"
          ],
          "name": "stdout"
        }
      ]
    },
    {
      "cell_type": "code",
      "metadata": {
        "id": "o5YlSTKzXFQn"
      },
      "source": [
        "filename = \"/content/drive/MyDrive/Colab Notebooks/training_df.pk\"\n",
        "training_numbers_df = pickle.load(open(filename, 'rb'))"
      ],
      "execution_count": null,
      "outputs": []
    },
    {
      "cell_type": "code",
      "metadata": {
        "id": "M3xhLmPBXGw2"
      },
      "source": [
        "#training_numbers_df.head()"
      ],
      "execution_count": null,
      "outputs": []
    },
    {
      "cell_type": "code",
      "metadata": {
        "id": "vGyiBao9XyDa"
      },
      "source": [
        ""
      ],
      "execution_count": null,
      "outputs": []
    },
    {
      "cell_type": "code",
      "metadata": {
        "id": "RUh1DXI6X45v"
      },
      "source": [
        "# initialize the training training data augmentation object\n",
        "trainAug = ImageDataGenerator(\n",
        "    rescale=1/255.0,\n",
        "    rotation_range=25,\n",
        "    zoom_range=0.1,\n",
        "    width_shift_range=0.1,\n",
        "    height_shift_range=0.1,\n",
        "    shear_range=0.2,\n",
        "    horizontal_flip=False,\n",
        "    fill_mode=\"nearest\",\n",
        "    validation_split=0.2)\n",
        "\n",
        "testAug = ImageDataGenerator(rescale=1/255.0)"
      ],
      "execution_count": null,
      "outputs": []
    },
    {
      "cell_type": "code",
      "metadata": {
        "id": "H8LDvBwSXT8r"
      },
      "source": [
        "# Shuffle the rows\n",
        "from sklearn.utils import shuffle\n",
        "training_numbers_df = shuffle(training_numbers_df)"
      ],
      "execution_count": null,
      "outputs": []
    },
    {
      "cell_type": "code",
      "metadata": {
        "id": "-fXwVs3rX-gw"
      },
      "source": [
        "X = np.array(training_numbers_df['img_num_arr_resize'].values.tolist())\n",
        "Y = np.array(training_numbers_df['class_arr'].values.tolist())"
      ],
      "execution_count": null,
      "outputs": []
    },
    {
      "cell_type": "code",
      "metadata": {
        "id": "ChMEfh6GYCQe"
      },
      "source": [
        "X_train, X_test, Y_train, Y_test = train_test_split(X, Y, test_size=0.2)"
      ],
      "execution_count": null,
      "outputs": []
    },
    {
      "cell_type": "code",
      "metadata": {
        "id": "d3fm9jcUJ_4E"
      },
      "source": [
        "X_train = tf.keras.applications.resnet50.preprocess_input(X_train)\n",
        "Y_train = tf.keras.utils.to_categorical(Y_train)\n",
        "\n",
        "X_test = tf.keras.applications.resnet50.preprocess_input(X_test)\n",
        "Y_test = tf.keras.utils.to_categorical(Y_test)"
      ],
      "execution_count": null,
      "outputs": []
    },
    {
      "cell_type": "code",
      "metadata": {
        "id": "Fa3X-zkXXFvo"
      },
      "source": [
        "#learning_rate = 1e-6 # poor performance\n",
        "learning_rate = 1e-4\n",
        "#learning_rate = 1e-2 # Poor performance\n",
        "num_epochs = 10\n",
        "batch_size=16\n",
        "#batch_size=24 # poor performance\n",
        "#batch_size=12 # poor performance"
      ],
      "execution_count": null,
      "outputs": []
    },
    {
      "cell_type": "code",
      "metadata": {
        "id": "SF-VOHIfYEY9"
      },
      "source": [
        "trainGen = trainAug.flow(X_train, Y_train, batch_size=batch_size, subset=\"training\", shuffle=True)\n",
        "valGen = trainAug.flow(X_train, Y_train, batch_size=batch_size, subset=\"validation\", shuffle=True)\n",
        "testGen = testAug.flow(X_test, Y_test, batch_size=batch_size)"
      ],
      "execution_count": null,
      "outputs": []
    },
    {
      "cell_type": "code",
      "metadata": {
        "colab": {
          "base_uri": "https://localhost:8080/"
        },
        "id": "u9VuKlRUbRtT",
        "outputId": "959efada-fdc6-4cde-9ca9-75f23b70a6f3"
      },
      "source": [
        "print(\"Size of Training Data: \", trainGen.n)"
      ],
      "execution_count": null,
      "outputs": [
        {
          "output_type": "stream",
          "text": [
            "Size of Training Data:  695\n"
          ],
          "name": "stdout"
        }
      ]
    },
    {
      "cell_type": "code",
      "metadata": {
        "id": "KGOCawR7IWGR"
      },
      "source": [
        "#baseModel = ResNet50(weights='imagenet', include_top=False,\n",
        "baseModel = ResNet50(weights=None, include_top=True,\n",
        "                    input_tensor=Input(shape=(600, 400, 3)),\n",
        "                    classes=10)"
      ],
      "execution_count": null,
      "outputs": []
    },
    {
      "cell_type": "code",
      "metadata": {
        "id": "ZO_GU_oXYMRN"
      },
      "source": [
        "opt = Adam(lr=learning_rate, \n",
        "           decay=learning_rate / num_epochs)\n",
        "baseModel.compile(loss=\"categorical_crossentropy\", optimizer=opt, metrics=[\"accuracy\"])"
      ],
      "execution_count": null,
      "outputs": []
    },
    {
      "cell_type": "code",
      "metadata": {
        "colab": {
          "base_uri": "https://localhost:8080/"
        },
        "id": "R3UV0qPve6ki",
        "outputId": "5cc32496-ab52-4c4b-ff55-266178a2097e"
      },
      "source": [
        "print(\"Steps per epoch\", trainGen.n // batch_size)\n",
        "print(\"Number of epochs\", num_epochs)\n",
        "print(\"Validation data\", valGen.n)"
      ],
      "execution_count": null,
      "outputs": [
        {
          "output_type": "stream",
          "text": [
            "Steps per epoch 43\n",
            "Number of epochs 10\n",
            "Validation data 173\n"
          ],
          "name": "stdout"
        }
      ]
    },
    {
      "cell_type": "code",
      "metadata": {
        "colab": {
          "base_uri": "https://localhost:8080/"
        },
        "id": "mPp9VkwYYOMM",
        "outputId": "0121d240-6dd7-4a41-98d5-ed0bf5500707"
      },
      "source": [
        "train_history = baseModel.fit(trainGen,\n",
        "                   steps_per_epoch=trainGen.n // batch_size, \n",
        "                   epochs=num_epochs,\n",
        "                   validation_data=valGen,\n",
        "                   validation_steps=valGen.n // batch_size,\n",
        "                   verbose=1)"
      ],
      "execution_count": null,
      "outputs": [
        {
          "output_type": "stream",
          "text": [
            "Epoch 1/10\n",
            "43/43 [==============================] - 67s 1s/step - loss: 3.0465 - accuracy: 0.1739 - val_loss: 2.2605 - val_accuracy: 0.1813\n",
            "Epoch 2/10\n",
            "43/43 [==============================] - 44s 1s/step - loss: 2.2228 - accuracy: 0.2781 - val_loss: 2.4364 - val_accuracy: 0.1750\n",
            "Epoch 3/10\n",
            "43/43 [==============================] - 44s 1s/step - loss: 2.2489 - accuracy: 0.2639 - val_loss: 3.8860 - val_accuracy: 0.1688\n",
            "Epoch 4/10\n",
            "43/43 [==============================] - 44s 1s/step - loss: 2.0497 - accuracy: 0.3366 - val_loss: 4.9904 - val_accuracy: 0.1813\n",
            "Epoch 5/10\n",
            "43/43 [==============================] - 44s 1s/step - loss: 1.7531 - accuracy: 0.4127 - val_loss: 6.5464 - val_accuracy: 0.2000\n",
            "Epoch 6/10\n",
            "43/43 [==============================] - 43s 1s/step - loss: 1.5561 - accuracy: 0.4926 - val_loss: 7.0061 - val_accuracy: 0.1688\n",
            "Epoch 7/10\n",
            "43/43 [==============================] - 43s 1s/step - loss: 1.4919 - accuracy: 0.5173 - val_loss: 6.8652 - val_accuracy: 0.1688\n",
            "Epoch 8/10\n",
            "43/43 [==============================] - 43s 1s/step - loss: 1.0699 - accuracy: 0.6399 - val_loss: 7.6555 - val_accuracy: 0.1813\n",
            "Epoch 9/10\n",
            "43/43 [==============================] - 43s 1s/step - loss: 0.8557 - accuracy: 0.7145 - val_loss: 2.7648 - val_accuracy: 0.4187\n",
            "Epoch 10/10\n",
            "43/43 [==============================] - 43s 1s/step - loss: 0.7416 - accuracy: 0.7705 - val_loss: 3.5515 - val_accuracy: 0.3063\n"
          ],
          "name": "stdout"
        }
      ]
    },
    {
      "cell_type": "code",
      "metadata": {
        "id": "UsurCzI6YQ-s",
        "colab": {
          "base_uri": "https://localhost:8080/",
          "height": 378
        },
        "outputId": "e63bbeea-5016-467d-e112-c2e48b1dbcf8"
      },
      "source": [
        "fig, (ax1, ax2) = plt.subplots(nrows=1, ncols=2, figsize=[16,6])\n",
        "ax1.plot(train_history.history['loss'], label='train_loss')\n",
        "ax1.plot(train_history.history['val_loss'], label='validation_loss')\n",
        "ax1.legend()\n",
        "ax2.plot(train_history.history['accuracy'], label='train_accuracy')\n",
        "ax2.plot(train_history.history['val_accuracy'], label='validation_accuracy')\n",
        "ax2.legend();"
      ],
      "execution_count": null,
      "outputs": [
        {
          "output_type": "display_data",
          "data": {
            "image/png": "[encoded data removed]",
            "text/plain": [
              "<Figure size 1152x432 with 2 Axes>"
            ]
          },
          "metadata": {
            "tags": [],
            "needs_background": "light"
          }
        }
      ]
    },
    {
      "cell_type": "code",
      "metadata": {
        "id": "QVsomorXnLyM"
      },
      "source": [
        "testGen.reset()\n",
        "predIdxs = baseModel.predict(\n",
        "    testGen,\n",
        "\t  steps=(testGen.n // batch_size) + 1)"
      ],
      "execution_count": null,
      "outputs": []
    },
    {
      "cell_type": "code",
      "metadata": {
        "colab": {
          "base_uri": "https://localhost:8080/"
        },
        "id": "8l77yxPzrRWw",
        "outputId": "dd056650-a485-4190-8717-3c708a15f3e6"
      },
      "source": [
        "print(predIdxs)\n",
        "predIdxs = np.argmax(predIdxs, axis=1)"
      ],
      "execution_count": null,
      "outputs": [
        {
          "output_type": "stream",
          "text": [
            "[[9.3146986e-01 5.7554399e-03 2.8788642e-04 ... 1.6267740e-04\n",
            "  3.6407562e-06 1.1639802e-05]\n",
            " [9.0610899e-02 2.3384766e-04 3.5075364e-01 ... 2.5232977e-03\n",
            "  1.4201140e-04 1.3288342e-02]\n",
            " [5.4829627e-01 3.4401022e-02 2.9166331e-04 ... 1.4730946e-02\n",
            "  4.5323650e-06 9.3720919e-05]\n",
            " ...\n",
            " [1.2384131e-01 2.8653002e-01 4.7781103e-04 ... 3.4655247e-02\n",
            "  1.0251594e-05 7.5113901e-05]\n",
            " [6.3454406e-03 8.5504180e-01 7.5128762e-04 ... 3.1252820e-02\n",
            "  1.6391628e-05 3.0734773e-05]\n",
            " [4.6428747e-02 4.8069302e-03 7.7332872e-01 ... 6.6244779e-03\n",
            "  3.1916938e-05 5.8671357e-03]]\n"
          ],
          "name": "stdout"
        }
      ]
    },
    {
      "cell_type": "code",
      "metadata": {
        "colab": {
          "base_uri": "https://localhost:8080/"
        },
        "id": "ttb5D2TMrWut",
        "outputId": "49ffa9a9-6be9-4c1d-a5a0-ab5a8275881f"
      },
      "source": [
        "from sklearn.metrics import classification_report\n",
        "print(predIdxs)\n",
        "Y_expected = np.argmax(Y_test, axis=1)\n",
        "print(Y_expected)\n",
        "print(classification_report(Y_expected, predIdxs, zero_division=0))\t"
      ],
      "execution_count": null,
      "outputs": [
        {
          "output_type": "stream",
          "text": [
            "[0 5 0 0 1 1 1 7 0 2 4 0 4 2 0 5 1 0 0 1 0 1 4 0 0 0 4 0 0 0 0 0 1 5 2 0 0\n",
            " 5 2 0 0 0 1 1 1 0 1 5 1 0 0 0 0 0 0 4 1 1 1 4 4 0 1 0 0 2 4 0 5 5 1 1 0 0\n",
            " 2 2 0 2 0 1 1 4 3 1 5 1 1 5 0 2 1 5 0 0 0 1 0 0 0 1 4 2 1 4 1 0 0 1 4 0 3\n",
            " 0 5 7 4 0 1 5 2 1 0 1 3 5 0 0 1 4 0 1 0 4 0 0 1 5 4 5 1 0 0 4 1 1 2 1 0 2\n",
            " 7 4 1 1 0 1 0 0 5 4 0 0 0 4 0 2 7 2 0 1 1 0 0 0 3 1 1 1 0 0 0 0 0 0 1 4 1\n",
            " 0 4 0 2 0 1 4 0 1 7 1 1 7 0 0 0 0 0 2 0 7 1 0 0 4 0 0 0 2 2 4 1 2]\n",
            "[1 6 2 9 7 1 6 7 8 4 1 1 5 4 2 2 7 7 3 8 4 9 6 9 7 8 9 1 7 1 2 7 5 1 5 3 6\n",
            " 7 7 2 4 5 4 1 3 7 3 6 5 9 7 2 9 8 6 7 1 0 4 5 4 1 5 7 1 7 6 7 9 1 4 2 8 6\n",
            " 5 2 1 6 7 3 3 0 2 6 1 1 6 4 2 5 6 3 1 2 0 5 2 7 7 1 7 9 7 1 7 2 7 6 1 0 5\n",
            " 6 1 8 9 7 7 8 0 2 4 1 3 7 5 3 2 6 0 7 0 7 2 7 6 4 4 2 1 7 7 8 4 0 6 1 6 9\n",
            " 3 9 1 1 2 7 2 2 1 9 5 6 1 5 4 4 1 5 8 4 4 6 0 1 6 0 0 0 8 5 7 7 1 7 6 2 2\n",
            " 1 7 6 6 4 5 1 1 6 8 7 7 1 7 4 6 1 2 2 7 9 6 4 1 9 7 6 5 1 8 8 6 5]\n",
            "              precision    recall  f1-score   support\n",
            "\n",
            "           0       0.05      0.42      0.10        12\n",
            "           1       0.18      0.27      0.22        37\n",
            "           2       0.10      0.08      0.09        24\n",
            "           3       0.25      0.10      0.14        10\n",
            "           4       0.08      0.10      0.09        20\n",
            "           5       0.00      0.00      0.00        19\n",
            "           6       0.00      0.00      0.00        29\n",
            "           7       0.14      0.03      0.04        40\n",
            "           8       0.00      0.00      0.00        13\n",
            "           9       0.00      0.00      0.00        14\n",
            "\n",
            "    accuracy                           0.10       218\n",
            "   macro avg       0.08      0.10      0.07       218\n",
            "weighted avg       0.09      0.10      0.07       218\n",
            "\n"
          ],
          "name": "stdout"
        }
      ]
    },
    {
      "cell_type": "code",
      "metadata": {
        "id": "UXMSbftirZ_A"
      },
      "source": [
        ""
      ],
      "execution_count": null,
      "outputs": []
    }
  ]
}