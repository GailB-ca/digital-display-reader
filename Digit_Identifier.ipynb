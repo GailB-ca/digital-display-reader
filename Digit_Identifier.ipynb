{
  "nbformat": 4,
  "nbformat_minor": 0,
  "metadata": {
    "colab": {
      "name": "Digit Identifier.ipynb",
      "provenance": [],
      "collapsed_sections": [],
      "machine_shape": "hm",
      "authorship_tag": "ABX9TyNp9qY+kDWJ3mqGAyq7jxmm",
      "include_colab_link": true
    },
    "kernelspec": {
      "name": "python3",
      "display_name": "Python 3"
    },
    "accelerator": "GPU"
  },
  "cells": [
    {
      "cell_type": "markdown",
      "metadata": {
        "id": "view-in-github",
        "colab_type": "text"
      },
      "source": [
        "<a href=\"https://colab.research.google.com/github/GailB-ca/digital-display-reader/blob/main/Digit_Identifier.ipynb\" target=\"_parent\"><img src=\"https://colab.research.google.com/assets/colab-badge.svg\" alt=\"Open In Colab\"/></a>"
      ]
    },
    {
      "cell_type": "code",
      "metadata": {
        "id": "ZCxwe46WT79P",
        "colab": {
          "base_uri": "https://localhost:8080/"
        },
        "outputId": "95e183b3-02de-4b26-c8da-00e9abb00983"
      },
      "source": [
        "%tensorflow_version 2.x\n",
        "import tensorflow as tf\n",
        "device_name = tf.test.gpu_device_name()\n",
        "if device_name != '/device:GPU:0':\n",
        "  raise SystemError('GPU device not found')\n",
        "print('Found GPU at: {}'.format(device_name))"
      ],
      "execution_count": null,
      "outputs": [
        {
          "output_type": "stream",
          "text": [
            "Found GPU at: /device:GPU:0\n"
          ],
          "name": "stdout"
        }
      ]
    },
    {
      "cell_type": "code",
      "metadata": {
        "id": "oAW80VThW5LG"
      },
      "source": [
        "from tensorflow.keras import models\n",
        "from tensorflow.keras import layers\n",
        "from tensorflow.keras.utils import to_categorical\n",
        "from tensorflow.keras.applications import ResNet50, VGG16\n",
        "from tensorflow.keras import Input\n",
        "from tensorflow.keras.preprocessing.image import ImageDataGenerator\n",
        "from sklearn.model_selection import train_test_split\n",
        "from tensorflow.keras import datasets\n",
        "from tensorflow.keras.optimizers import Adam\n",
        "import tensorflow as tf\n",
        "\n",
        "import pickle\n",
        "import numpy as np\n",
        "from matplotlib import pyplot as plt\n",
        "\n",
        "from google.colab import drive\n"
      ],
      "execution_count": null,
      "outputs": []
    },
    {
      "cell_type": "code",
      "metadata": {
        "id": "guC5BWyqIL8j"
      },
      "source": [
        "config = tf.compat.v1.ConfigProto()\n",
        "config.gpu_options.allow_growth = True\n",
        "with tf.compat.v1.Session(config=config):\n",
        "    pass  # init sessin with allow_growth\n"
      ],
      "execution_count": null,
      "outputs": []
    },
    {
      "cell_type": "code",
      "metadata": {
        "colab": {
          "base_uri": "https://localhost:8080/"
        },
        "id": "EnH7bxO8XXEa",
        "outputId": "de1f8f86-2dbe-46a1-9eec-6055fb3100ea"
      },
      "source": [
        "drive.mount('/content/drive')"
      ],
      "execution_count": null,
      "outputs": [
        {
          "output_type": "stream",
          "text": [
            "Drive already mounted at /content/drive; to attempt to forcibly remount, call drive.mount(\"/content/drive\", force_remount=True).\n"
          ],
          "name": "stdout"
        }
      ]
    },
    {
      "cell_type": "code",
      "metadata": {
        "id": "o5YlSTKzXFQn"
      },
      "source": [
        "filename = \"/content/drive/MyDrive/Colab Notebooks/training_df.pk\"\n",
        "training_numbers_df = pickle.load(open(filename, 'rb'))"
      ],
      "execution_count": null,
      "outputs": []
    },
    {
      "cell_type": "code",
      "metadata": {
        "colab": {
          "base_uri": "https://localhost:8080/",
          "height": 477
        },
        "id": "M3xhLmPBXGw2",
        "outputId": "2ba5da99-f367-48c2-9410-ba8775f87896"
      },
      "source": [
        "training_numbers_df.head()"
      ],
      "execution_count": null,
      "outputs": [
        {
          "output_type": "execute_result",
          "data": {
            "text/html": [
              "<div>\n",
              "<style scoped>\n",
              "    .dataframe tbody tr th:only-of-type {\n",
              "        vertical-align: middle;\n",
              "    }\n",
              "\n",
              "    .dataframe tbody tr th {\n",
              "        vertical-align: top;\n",
              "    }\n",
              "\n",
              "    .dataframe thead th {\n",
              "        text-align: right;\n",
              "    }\n",
              "</style>\n",
              "<table border=\"1\" class=\"dataframe\">\n",
              "  <thead>\n",
              "    <tr style=\"text-align: right;\">\n",
              "      <th></th>\n",
              "      <th>box_order</th>\n",
              "      <th>class</th>\n",
              "      <th>image_id</th>\n",
              "      <th>image_path</th>\n",
              "      <th>xmax</th>\n",
              "      <th>xmin</th>\n",
              "      <th>ymax</th>\n",
              "      <th>ymin</th>\n",
              "      <th>width</th>\n",
              "      <th>height</th>\n",
              "      <th>portrait</th>\n",
              "      <th>img_num_arr</th>\n",
              "      <th>img_num_bw_arr</th>\n",
              "      <th>img_num_width</th>\n",
              "      <th>img_num_height</th>\n",
              "      <th>img_num_arr_resize</th>\n",
              "      <th>class_arr</th>\n",
              "    </tr>\n",
              "  </thead>\n",
              "  <tbody>\n",
              "    <tr>\n",
              "      <th>0</th>\n",
              "      <td>0.0</td>\n",
              "      <td>1</td>\n",
              "      <td>0.0</td>\n",
              "      <td>/Users/gbishop/lighthouse/data_bootcamp/digita...</td>\n",
              "      <td>2166</td>\n",
              "      <td>1740</td>\n",
              "      <td>2070</td>\n",
              "      <td>1799</td>\n",
              "      <td>426</td>\n",
              "      <td>271</td>\n",
              "      <td>0</td>\n",
              "      <td>[[[221, 208, 210], [221, 208, 210], [221, 208,...</td>\n",
              "      <td>[[[255, 255, 255], [255, 255, 255], [255, 255,...</td>\n",
              "      <td>271</td>\n",
              "      <td>426</td>\n",
              "      <td>[[[255, 255, 255], [255, 255, 255], [255, 255,...</td>\n",
              "      <td>[1]</td>\n",
              "    </tr>\n",
              "    <tr>\n",
              "      <th>1</th>\n",
              "      <td>1.0</td>\n",
              "      <td>5</td>\n",
              "      <td>0.0</td>\n",
              "      <td>/Users/gbishop/lighthouse/data_bootcamp/digita...</td>\n",
              "      <td>2186</td>\n",
              "      <td>1710</td>\n",
              "      <td>1775</td>\n",
              "      <td>1514</td>\n",
              "      <td>476</td>\n",
              "      <td>261</td>\n",
              "      <td>0</td>\n",
              "      <td>[[[38, 51, 49], [38, 51, 49], [37, 50, 48], [3...</td>\n",
              "      <td>[[[255, 255, 255], [255, 255, 255], [255, 255,...</td>\n",
              "      <td>261</td>\n",
              "      <td>476</td>\n",
              "      <td>[[[255, 255, 255], [255, 255, 255], [255, 255,...</td>\n",
              "      <td>[5]</td>\n",
              "    </tr>\n",
              "    <tr>\n",
              "      <th>2</th>\n",
              "      <td>2.0</td>\n",
              "      <td>0</td>\n",
              "      <td>0.0</td>\n",
              "      <td>/Users/gbishop/lighthouse/data_bootcamp/digita...</td>\n",
              "      <td>2131</td>\n",
              "      <td>1690</td>\n",
              "      <td>1535</td>\n",
              "      <td>1194</td>\n",
              "      <td>441</td>\n",
              "      <td>341</td>\n",
              "      <td>0</td>\n",
              "      <td>[[[36, 50, 48], [35, 49, 47], [36, 50, 48], [3...</td>\n",
              "      <td>[[[255, 255, 255], [255, 255, 255], [255, 255,...</td>\n",
              "      <td>341</td>\n",
              "      <td>441</td>\n",
              "      <td>[[[255, 255, 255], [255, 255, 255], [255, 255,...</td>\n",
              "      <td>[0]</td>\n",
              "    </tr>\n",
              "    <tr>\n",
              "      <th>3</th>\n",
              "      <td>3.0</td>\n",
              "      <td>9</td>\n",
              "      <td>0.0</td>\n",
              "      <td>/Users/gbishop/lighthouse/data_bootcamp/digita...</td>\n",
              "      <td>2661</td>\n",
              "      <td>2165</td>\n",
              "      <td>1785</td>\n",
              "      <td>1469</td>\n",
              "      <td>496</td>\n",
              "      <td>316</td>\n",
              "      <td>0</td>\n",
              "      <td>[[[46, 63, 60], [44, 61, 58], [48, 65, 62], [4...</td>\n",
              "      <td>[[[255, 255, 255], [255, 255, 255], [255, 255,...</td>\n",
              "      <td>316</td>\n",
              "      <td>496</td>\n",
              "      <td>[[[255, 255, 255], [255, 255, 255], [255, 255,...</td>\n",
              "      <td>[9]</td>\n",
              "    </tr>\n",
              "    <tr>\n",
              "      <th>4</th>\n",
              "      <td>4.0</td>\n",
              "      <td>4</td>\n",
              "      <td>0.0</td>\n",
              "      <td>/Users/gbishop/lighthouse/data_bootcamp/digita...</td>\n",
              "      <td>2601</td>\n",
              "      <td>2135</td>\n",
              "      <td>1455</td>\n",
              "      <td>1154</td>\n",
              "      <td>466</td>\n",
              "      <td>301</td>\n",
              "      <td>0</td>\n",
              "      <td>[[[55, 72, 68], [55, 72, 68], [55, 72, 68], [5...</td>\n",
              "      <td>[[[255, 255, 255], [255, 255, 255], [255, 255,...</td>\n",
              "      <td>301</td>\n",
              "      <td>466</td>\n",
              "      <td>[[[255, 255, 255], [255, 255, 255], [255, 255,...</td>\n",
              "      <td>[4]</td>\n",
              "    </tr>\n",
              "  </tbody>\n",
              "</table>\n",
              "</div>"
            ],
            "text/plain": [
              "   box_order class  ...                                 img_num_arr_resize class_arr\n",
              "0        0.0     1  ...  [[[255, 255, 255], [255, 255, 255], [255, 255,...       [1]\n",
              "1        1.0     5  ...  [[[255, 255, 255], [255, 255, 255], [255, 255,...       [5]\n",
              "2        2.0     0  ...  [[[255, 255, 255], [255, 255, 255], [255, 255,...       [0]\n",
              "3        3.0     9  ...  [[[255, 255, 255], [255, 255, 255], [255, 255,...       [9]\n",
              "4        4.0     4  ...  [[[255, 255, 255], [255, 255, 255], [255, 255,...       [4]\n",
              "\n",
              "[5 rows x 17 columns]"
            ]
          },
          "metadata": {
            "tags": []
          },
          "execution_count": 76
        }
      ]
    },
    {
      "cell_type": "code",
      "metadata": {
        "id": "vGyiBao9XyDa"
      },
      "source": [
        ""
      ],
      "execution_count": null,
      "outputs": []
    },
    {
      "cell_type": "code",
      "metadata": {
        "id": "RUh1DXI6X45v"
      },
      "source": [
        "# initialize the training training data augmentation object\n",
        "trainAug = ImageDataGenerator(\n",
        "    rescale=1/255.0,\n",
        "    rotation_range=25,\n",
        "    zoom_range=0.1,\n",
        "    width_shift_range=0.1,\n",
        "    height_shift_range=0.1,\n",
        "    shear_range=0.2,\n",
        "    horizontal_flip=False,\n",
        "    fill_mode=\"nearest\",\n",
        "    validation_split=0.2)\n",
        "\n",
        "testAug = ImageDataGenerator(rescale=1/255.0)"
      ],
      "execution_count": null,
      "outputs": []
    },
    {
      "cell_type": "code",
      "metadata": {
        "id": "H8LDvBwSXT8r"
      },
      "source": [
        "# Shuffle the rows\n",
        "from sklearn.utils import shuffle\n",
        "training_numbers_df = shuffle(training_numbers_df)"
      ],
      "execution_count": null,
      "outputs": []
    },
    {
      "cell_type": "code",
      "metadata": {
        "id": "-fXwVs3rX-gw"
      },
      "source": [
        "X = np.array(training_numbers_df['img_num_arr_resize'].values.tolist())\n",
        "Y = np.array(training_numbers_df['class_arr'].values.tolist())"
      ],
      "execution_count": null,
      "outputs": []
    },
    {
      "cell_type": "code",
      "metadata": {
        "id": "ChMEfh6GYCQe"
      },
      "source": [
        "X_train, X_test, Y_train, Y_test = train_test_split(X, Y, test_size=0.2, stratify=Y)"
      ],
      "execution_count": null,
      "outputs": []
    },
    {
      "cell_type": "code",
      "metadata": {
        "id": "d3fm9jcUJ_4E"
      },
      "source": [
        "X_train = tf.keras.applications.resnet50.preprocess_input(X_train)\n",
        "Y_train = tf.keras.utils.to_categorical(Y_train)\n",
        "\n",
        "X_test = tf.keras.applications.resnet50.preprocess_input(X_test)\n",
        "Y_test = tf.keras.utils.to_categorical(Y_test)"
      ],
      "execution_count": null,
      "outputs": []
    },
    {
      "cell_type": "code",
      "metadata": {
        "id": "Fa3X-zkXXFvo"
      },
      "source": [
        "#learning_rate = 1e-6 # poor performance\n",
        "learning_rate = 1e-4\n",
        "#learning_rate = 1e-2 # Poor performance\n",
        "#num_epochs = 10 # good performance\n",
        "#num_epochs = 64 # Poor performance\n",
        "num_epochs = 16\n",
        "\n",
        "batch_size = 16 # good performance for basemodel\n",
        "#batch_size=32 # Words for model2\n",
        "\n",
        "img_shape = (600, 400, 3)"
      ],
      "execution_count": null,
      "outputs": []
    },
    {
      "cell_type": "code",
      "metadata": {
        "id": "SF-VOHIfYEY9"
      },
      "source": [
        "trainGen = trainAug.flow(X_train, Y_train, batch_size=batch_size, subset=\"training\", shuffle=True)\n",
        "valGen = trainAug.flow(X_train, Y_train, batch_size=batch_size, subset=\"validation\", shuffle=True)\n",
        "testGen = testAug.flow(X_test, Y_test, batch_size=batch_size)"
      ],
      "execution_count": null,
      "outputs": []
    },
    {
      "cell_type": "code",
      "metadata": {
        "colab": {
          "base_uri": "https://localhost:8080/"
        },
        "id": "u9VuKlRUbRtT",
        "outputId": "6d4ef4a8-1779-4ca4-f1f1-3b18f558688c"
      },
      "source": [
        "print(\"Size of Training Data: \", trainGen.n)"
      ],
      "execution_count": null,
      "outputs": [
        {
          "output_type": "stream",
          "text": [
            "Size of Training Data:  695\n"
          ],
          "name": "stdout"
        }
      ]
    },
    {
      "cell_type": "code",
      "metadata": {
        "id": "KGOCawR7IWGR"
      },
      "source": [
        "# VERSION 1\n",
        "baseModel = ResNet50(weights=None, include_top=True,\n",
        "                    input_tensor=Input(shape=img_shape),\n",
        "                    classes=10)\n"
      ],
      "execution_count": null,
      "outputs": []
    },
    {
      "cell_type": "code",
      "metadata": {
        "id": "Wgon_U9mhUGl"
      },
      "source": [
        "# VERSION 2\n",
        "#from keras.layers import Dense, GlobalAveragePooling2D\n",
        "#from keras.models import Model\n",
        "\n",
        "#base_model = ResNet50(weights='imagenet', include_top=False,\n",
        "#                             input_tensor=Input(shape=img_shape))\n",
        "\n",
        "# Taking the output of the last convolution block in ResNet50\n",
        "#x = base_model.output\n",
        " \n",
        "# Adding a Global Average Pooling layer\n",
        "#x = GlobalAveragePooling2D()(x)\n",
        " \n",
        "# Adding a fully connected layer having 1024 neurons\n",
        "#x = Dense(1024, activation='relu')(x)\n",
        " \n",
        "# Adding a fully connected layer having 10 neurons which will\n",
        "# give the probability of image having digits 0 to 10\n",
        "#predictions = Dense(10, activation='softmax')(x)\n",
        " \n",
        "# Model to be trained\n",
        "#baseModel = Model(inputs=base_model.input, outputs=predictions)\n",
        " \n",
        "# Training only top layers i.e. the layers which we have added in the end\n",
        "#for layer in base_model.layers:\n",
        "#    layer.trainable = False\n"
      ],
      "execution_count": null,
      "outputs": []
    },
    {
      "cell_type": "code",
      "metadata": {
        "id": "G-2fnM3UAM-c"
      },
      "source": [
        "# VERSION 3\n",
        "classifier_vgg16 = VGG16(\n",
        "    input_shape = img_shape,\n",
        "    include_top = False,\n",
        "    weights = 'imagenet')\n",
        "classifier_resnet = ResNet50(\n",
        "    input_shape = img_shape,\n",
        "    include_top = False,\n",
        "    weights = 'imagenet')\n",
        "\n",
        "# Don't train existing weights for vgg16 and resnet50\n",
        "for layer in classifier_vgg16.layers:\n",
        "    layer.trainable = False\n",
        "for layer in classifier_resnet.layers:\n",
        "    layer.trainable = False"
      ],
      "execution_count": null,
      "outputs": []
    },
    {
      "cell_type": "code",
      "metadata": {
        "id": "x5C842-ZBk6B"
      },
      "source": [
        "#VGG16\n",
        "classifier1 = classifier_vgg16.output#head mode\n",
        "classifier1 = layers.Flatten()(classifier1)#adding layer of flatten\n",
        "classifier1 = layers.Dense(units=256, activation='relu')(classifier1)\n",
        "classifier1 = layers.Dropout(0.6)(classifier1)\n",
        "classifier1 = layers.Dense(units=10, activation='softmax')(classifier1)\n",
        "\n",
        "model = Model(inputs = classifier_vgg16.input , outputs = classifier1)\n",
        "model.compile(optimizer='adam', loss='categorical_crossentropy', metrics=['accuracy'])\n",
        "\n",
        "#resnet50\n",
        "classifier2 = classifier_resnet.output#head mode\n",
        "classifier2 = layers.Flatten()(classifier2)#adding layer of flatten\n",
        "classifier2 = layers.Dropout(0.6)(classifier2)\n",
        "classifier2 = layers.Dense(units=10, activation='softmax')(classifier2)\n",
        "\n",
        "model2 = Model(inputs = classifier_resnet.input , outputs = classifier2)\n",
        "model2.compile(optimizer='adam', loss='categorical_crossentropy', metrics=['accuracy'])\n"
      ],
      "execution_count": null,
      "outputs": []
    },
    {
      "cell_type": "code",
      "metadata": {
        "colab": {
          "base_uri": "https://localhost:8080/"
        },
        "id": "iBlRR5ZOBy5Y",
        "outputId": "f620e960-c068-4acf-f818-3ce8bfe9ce46"
      },
      "source": [
        "#fit the model\n",
        "#resnet50\n",
        "history2 = model2.fit(trainGen,\n",
        "                   steps_per_epoch=trainGen.n // batch_size, \n",
        "                   epochs=num_epochs,\n",
        "                   validation_data=valGen,\n",
        "                   validation_steps=valGen.n // batch_size,\n",
        "                   verbose=1)\n"
      ],
      "execution_count": null,
      "outputs": [
        {
          "output_type": "stream",
          "text": [
            "Epoch 1/16\n",
            "21/21 [==============================] - 47s 2s/step - loss: 151.4616 - accuracy: 0.1722 - val_loss: 91.4923 - val_accuracy: 0.1500\n",
            "Epoch 2/16\n",
            "21/21 [==============================] - 42s 2s/step - loss: 61.3149 - accuracy: 0.2479 - val_loss: 18.7412 - val_accuracy: 0.4563\n",
            "Epoch 3/16\n",
            "21/21 [==============================] - 41s 2s/step - loss: 13.0119 - accuracy: 0.5753 - val_loss: 8.6713 - val_accuracy: 0.6313\n",
            "Epoch 4/16\n",
            "21/21 [==============================] - 41s 2s/step - loss: 7.6950 - accuracy: 0.6188 - val_loss: 5.1786 - val_accuracy: 0.7375\n",
            "Epoch 5/16\n",
            "21/21 [==============================] - 41s 2s/step - loss: 8.7956 - accuracy: 0.6634 - val_loss: 8.3488 - val_accuracy: 0.6375\n",
            "Epoch 6/16\n",
            "21/21 [==============================] - 41s 2s/step - loss: 7.6424 - accuracy: 0.6948 - val_loss: 12.9879 - val_accuracy: 0.6250\n",
            "Epoch 7/16\n",
            "21/21 [==============================] - 41s 2s/step - loss: 12.4956 - accuracy: 0.6329 - val_loss: 12.3185 - val_accuracy: 0.6187\n",
            "Epoch 8/16\n",
            "21/21 [==============================] - 41s 2s/step - loss: 11.2280 - accuracy: 0.6440 - val_loss: 8.2349 - val_accuracy: 0.7375\n",
            "Epoch 9/16\n",
            "21/21 [==============================] - 41s 2s/step - loss: 7.9895 - accuracy: 0.7357 - val_loss: 11.9988 - val_accuracy: 0.6812\n",
            "Epoch 10/16\n",
            "21/21 [==============================] - 41s 2s/step - loss: 10.8961 - accuracy: 0.6655 - val_loss: 13.8880 - val_accuracy: 0.6375\n",
            "Epoch 11/16\n",
            "21/21 [==============================] - 41s 2s/step - loss: 9.2462 - accuracy: 0.6984 - val_loss: 13.8060 - val_accuracy: 0.6750\n",
            "Epoch 12/16\n",
            "21/21 [==============================] - 41s 2s/step - loss: 9.2399 - accuracy: 0.7081 - val_loss: 9.2155 - val_accuracy: 0.7125\n",
            "Epoch 13/16\n",
            "21/21 [==============================] - 41s 2s/step - loss: 6.0714 - accuracy: 0.7504 - val_loss: 6.1592 - val_accuracy: 0.7563\n",
            "Epoch 14/16\n",
            "21/21 [==============================] - 41s 2s/step - loss: 5.7825 - accuracy: 0.7740 - val_loss: 5.4140 - val_accuracy: 0.7563\n",
            "Epoch 15/16\n",
            "21/21 [==============================] - 41s 2s/step - loss: 6.8847 - accuracy: 0.7553 - val_loss: 9.0254 - val_accuracy: 0.7125\n",
            "Epoch 16/16\n",
            "21/21 [==============================] - 41s 2s/step - loss: 10.4796 - accuracy: 0.7089 - val_loss: 9.8816 - val_accuracy: 0.7750\n"
          ],
          "name": "stdout"
        }
      ]
    },
    {
      "cell_type": "code",
      "metadata": {
        "colab": {
          "base_uri": "https://localhost:8080/",
          "height": 517
        },
        "id": "rpPjSrVWDrJZ",
        "outputId": "9c9d2b48-41f6-46fb-e2b9-1207dbf63cf2"
      },
      "source": [
        "history3 = model.fit(trainGen,\n",
        "                   steps_per_epoch=trainGen.n // batch_size, \n",
        "                   epochs=num_epochs,\n",
        "                   validation_data=valGen,\n",
        "                   validation_steps=valGen.n // batch_size,\n",
        "                   verbose=1)"
      ],
      "execution_count": null,
      "outputs": [
        {
          "output_type": "stream",
          "text": [
            "Epoch 1/16\n"
          ],
          "name": "stdout"
        },
        {
          "output_type": "error",
          "ename": "ResourceExhaustedError",
          "evalue": "ignored",
          "traceback": [
            "\u001b[0;31m---------------------------------------------------------------------------\u001b[0m",
            "\u001b[0;31mResourceExhaustedError\u001b[0m                    Traceback (most recent call last)",
            "\u001b[0;32m<ipython-input-93-03a679331545>\u001b[0m in \u001b[0;36m<module>\u001b[0;34m()\u001b[0m\n\u001b[1;32m      4\u001b[0m                    \u001b[0mvalidation_data\u001b[0m\u001b[0;34m=\u001b[0m\u001b[0mvalGen\u001b[0m\u001b[0;34m,\u001b[0m\u001b[0;34m\u001b[0m\u001b[0;34m\u001b[0m\u001b[0m\n\u001b[1;32m      5\u001b[0m                    \u001b[0mvalidation_steps\u001b[0m\u001b[0;34m=\u001b[0m\u001b[0mvalGen\u001b[0m\u001b[0;34m.\u001b[0m\u001b[0mn\u001b[0m \u001b[0;34m//\u001b[0m \u001b[0mbatch_size\u001b[0m\u001b[0;34m,\u001b[0m\u001b[0;34m\u001b[0m\u001b[0;34m\u001b[0m\u001b[0m\n\u001b[0;32m----> 6\u001b[0;31m                    verbose=1)\n\u001b[0m",
            "\u001b[0;32m/usr/local/lib/python3.7/dist-packages/tensorflow/python/keras/engine/training.py\u001b[0m in \u001b[0;36mfit\u001b[0;34m(self, x, y, batch_size, epochs, verbose, callbacks, validation_split, validation_data, shuffle, class_weight, sample_weight, initial_epoch, steps_per_epoch, validation_steps, validation_batch_size, validation_freq, max_queue_size, workers, use_multiprocessing)\u001b[0m\n\u001b[1;32m   1098\u001b[0m                 _r=1):\n\u001b[1;32m   1099\u001b[0m               \u001b[0mcallbacks\u001b[0m\u001b[0;34m.\u001b[0m\u001b[0mon_train_batch_begin\u001b[0m\u001b[0;34m(\u001b[0m\u001b[0mstep\u001b[0m\u001b[0;34m)\u001b[0m\u001b[0;34m\u001b[0m\u001b[0;34m\u001b[0m\u001b[0m\n\u001b[0;32m-> 1100\u001b[0;31m               \u001b[0mtmp_logs\u001b[0m \u001b[0;34m=\u001b[0m \u001b[0mself\u001b[0m\u001b[0;34m.\u001b[0m\u001b[0mtrain_function\u001b[0m\u001b[0;34m(\u001b[0m\u001b[0miterator\u001b[0m\u001b[0;34m)\u001b[0m\u001b[0;34m\u001b[0m\u001b[0;34m\u001b[0m\u001b[0m\n\u001b[0m\u001b[1;32m   1101\u001b[0m               \u001b[0;32mif\u001b[0m \u001b[0mdata_handler\u001b[0m\u001b[0;34m.\u001b[0m\u001b[0mshould_sync\u001b[0m\u001b[0;34m:\u001b[0m\u001b[0;34m\u001b[0m\u001b[0;34m\u001b[0m\u001b[0m\n\u001b[1;32m   1102\u001b[0m                 \u001b[0mcontext\u001b[0m\u001b[0;34m.\u001b[0m\u001b[0masync_wait\u001b[0m\u001b[0;34m(\u001b[0m\u001b[0;34m)\u001b[0m\u001b[0;34m\u001b[0m\u001b[0;34m\u001b[0m\u001b[0m\n",
            "\u001b[0;32m/usr/local/lib/python3.7/dist-packages/tensorflow/python/eager/def_function.py\u001b[0m in \u001b[0;36m__call__\u001b[0;34m(self, *args, **kwds)\u001b[0m\n\u001b[1;32m    826\u001b[0m     \u001b[0mtracing_count\u001b[0m \u001b[0;34m=\u001b[0m \u001b[0mself\u001b[0m\u001b[0;34m.\u001b[0m\u001b[0mexperimental_get_tracing_count\u001b[0m\u001b[0;34m(\u001b[0m\u001b[0;34m)\u001b[0m\u001b[0;34m\u001b[0m\u001b[0;34m\u001b[0m\u001b[0m\n\u001b[1;32m    827\u001b[0m     \u001b[0;32mwith\u001b[0m \u001b[0mtrace\u001b[0m\u001b[0;34m.\u001b[0m\u001b[0mTrace\u001b[0m\u001b[0;34m(\u001b[0m\u001b[0mself\u001b[0m\u001b[0;34m.\u001b[0m\u001b[0m_name\u001b[0m\u001b[0;34m)\u001b[0m \u001b[0;32mas\u001b[0m \u001b[0mtm\u001b[0m\u001b[0;34m:\u001b[0m\u001b[0;34m\u001b[0m\u001b[0;34m\u001b[0m\u001b[0m\n\u001b[0;32m--> 828\u001b[0;31m       \u001b[0mresult\u001b[0m \u001b[0;34m=\u001b[0m \u001b[0mself\u001b[0m\u001b[0;34m.\u001b[0m\u001b[0m_call\u001b[0m\u001b[0;34m(\u001b[0m\u001b[0;34m*\u001b[0m\u001b[0margs\u001b[0m\u001b[0;34m,\u001b[0m \u001b[0;34m**\u001b[0m\u001b[0mkwds\u001b[0m\u001b[0;34m)\u001b[0m\u001b[0;34m\u001b[0m\u001b[0;34m\u001b[0m\u001b[0m\n\u001b[0m\u001b[1;32m    829\u001b[0m       \u001b[0mcompiler\u001b[0m \u001b[0;34m=\u001b[0m \u001b[0;34m\"xla\"\u001b[0m \u001b[0;32mif\u001b[0m \u001b[0mself\u001b[0m\u001b[0;34m.\u001b[0m\u001b[0m_experimental_compile\u001b[0m \u001b[0;32melse\u001b[0m \u001b[0;34m\"nonXla\"\u001b[0m\u001b[0;34m\u001b[0m\u001b[0;34m\u001b[0m\u001b[0m\n\u001b[1;32m    830\u001b[0m       \u001b[0mnew_tracing_count\u001b[0m \u001b[0;34m=\u001b[0m \u001b[0mself\u001b[0m\u001b[0;34m.\u001b[0m\u001b[0mexperimental_get_tracing_count\u001b[0m\u001b[0;34m(\u001b[0m\u001b[0;34m)\u001b[0m\u001b[0;34m\u001b[0m\u001b[0;34m\u001b[0m\u001b[0m\n",
            "\u001b[0;32m/usr/local/lib/python3.7/dist-packages/tensorflow/python/eager/def_function.py\u001b[0m in \u001b[0;36m_call\u001b[0;34m(self, *args, **kwds)\u001b[0m\n\u001b[1;32m    886\u001b[0m         \u001b[0;31m# Lifting succeeded, so variables are initialized and we can run the\u001b[0m\u001b[0;34m\u001b[0m\u001b[0;34m\u001b[0m\u001b[0;34m\u001b[0m\u001b[0m\n\u001b[1;32m    887\u001b[0m         \u001b[0;31m# stateless function.\u001b[0m\u001b[0;34m\u001b[0m\u001b[0;34m\u001b[0m\u001b[0;34m\u001b[0m\u001b[0m\n\u001b[0;32m--> 888\u001b[0;31m         \u001b[0;32mreturn\u001b[0m \u001b[0mself\u001b[0m\u001b[0;34m.\u001b[0m\u001b[0m_stateless_fn\u001b[0m\u001b[0;34m(\u001b[0m\u001b[0;34m*\u001b[0m\u001b[0margs\u001b[0m\u001b[0;34m,\u001b[0m \u001b[0;34m**\u001b[0m\u001b[0mkwds\u001b[0m\u001b[0;34m)\u001b[0m\u001b[0;34m\u001b[0m\u001b[0;34m\u001b[0m\u001b[0m\n\u001b[0m\u001b[1;32m    889\u001b[0m     \u001b[0;32melse\u001b[0m\u001b[0;34m:\u001b[0m\u001b[0;34m\u001b[0m\u001b[0;34m\u001b[0m\u001b[0m\n\u001b[1;32m    890\u001b[0m       \u001b[0m_\u001b[0m\u001b[0;34m,\u001b[0m \u001b[0m_\u001b[0m\u001b[0;34m,\u001b[0m \u001b[0m_\u001b[0m\u001b[0;34m,\u001b[0m \u001b[0mfiltered_flat_args\u001b[0m \u001b[0;34m=\u001b[0m\u001b[0;31m \u001b[0m\u001b[0;31m\\\u001b[0m\u001b[0;34m\u001b[0m\u001b[0;34m\u001b[0m\u001b[0m\n",
            "\u001b[0;32m/usr/local/lib/python3.7/dist-packages/tensorflow/python/eager/function.py\u001b[0m in \u001b[0;36m__call__\u001b[0;34m(self, *args, **kwargs)\u001b[0m\n\u001b[1;32m   2941\u001b[0m        filtered_flat_args) = self._maybe_define_function(args, kwargs)\n\u001b[1;32m   2942\u001b[0m     return graph_function._call_flat(\n\u001b[0;32m-> 2943\u001b[0;31m         filtered_flat_args, captured_inputs=graph_function.captured_inputs)  # pylint: disable=protected-access\n\u001b[0m\u001b[1;32m   2944\u001b[0m \u001b[0;34m\u001b[0m\u001b[0m\n\u001b[1;32m   2945\u001b[0m   \u001b[0;34m@\u001b[0m\u001b[0mproperty\u001b[0m\u001b[0;34m\u001b[0m\u001b[0;34m\u001b[0m\u001b[0m\n",
            "\u001b[0;32m/usr/local/lib/python3.7/dist-packages/tensorflow/python/eager/function.py\u001b[0m in \u001b[0;36m_call_flat\u001b[0;34m(self, args, captured_inputs, cancellation_manager)\u001b[0m\n\u001b[1;32m   1917\u001b[0m       \u001b[0;31m# No tape is watching; skip to running the function.\u001b[0m\u001b[0;34m\u001b[0m\u001b[0;34m\u001b[0m\u001b[0;34m\u001b[0m\u001b[0m\n\u001b[1;32m   1918\u001b[0m       return self._build_call_outputs(self._inference_function.call(\n\u001b[0;32m-> 1919\u001b[0;31m           ctx, args, cancellation_manager=cancellation_manager))\n\u001b[0m\u001b[1;32m   1920\u001b[0m     forward_backward = self._select_forward_and_backward_functions(\n\u001b[1;32m   1921\u001b[0m         \u001b[0margs\u001b[0m\u001b[0;34m,\u001b[0m\u001b[0;34m\u001b[0m\u001b[0;34m\u001b[0m\u001b[0m\n",
            "\u001b[0;32m/usr/local/lib/python3.7/dist-packages/tensorflow/python/eager/function.py\u001b[0m in \u001b[0;36mcall\u001b[0;34m(self, ctx, args, cancellation_manager)\u001b[0m\n\u001b[1;32m    558\u001b[0m               \u001b[0minputs\u001b[0m\u001b[0;34m=\u001b[0m\u001b[0margs\u001b[0m\u001b[0;34m,\u001b[0m\u001b[0;34m\u001b[0m\u001b[0;34m\u001b[0m\u001b[0m\n\u001b[1;32m    559\u001b[0m               \u001b[0mattrs\u001b[0m\u001b[0;34m=\u001b[0m\u001b[0mattrs\u001b[0m\u001b[0;34m,\u001b[0m\u001b[0;34m\u001b[0m\u001b[0;34m\u001b[0m\u001b[0m\n\u001b[0;32m--> 560\u001b[0;31m               ctx=ctx)\n\u001b[0m\u001b[1;32m    561\u001b[0m         \u001b[0;32melse\u001b[0m\u001b[0;34m:\u001b[0m\u001b[0;34m\u001b[0m\u001b[0;34m\u001b[0m\u001b[0m\n\u001b[1;32m    562\u001b[0m           outputs = execute.execute_with_cancellation(\n",
            "\u001b[0;32m/usr/local/lib/python3.7/dist-packages/tensorflow/python/eager/execute.py\u001b[0m in \u001b[0;36mquick_execute\u001b[0;34m(op_name, num_outputs, inputs, attrs, ctx, name)\u001b[0m\n\u001b[1;32m     58\u001b[0m     \u001b[0mctx\u001b[0m\u001b[0;34m.\u001b[0m\u001b[0mensure_initialized\u001b[0m\u001b[0;34m(\u001b[0m\u001b[0;34m)\u001b[0m\u001b[0;34m\u001b[0m\u001b[0;34m\u001b[0m\u001b[0m\n\u001b[1;32m     59\u001b[0m     tensors = pywrap_tfe.TFE_Py_Execute(ctx._handle, device_name, op_name,\n\u001b[0;32m---> 60\u001b[0;31m                                         inputs, attrs, num_outputs)\n\u001b[0m\u001b[1;32m     61\u001b[0m   \u001b[0;32mexcept\u001b[0m \u001b[0mcore\u001b[0m\u001b[0;34m.\u001b[0m\u001b[0m_NotOkStatusException\u001b[0m \u001b[0;32mas\u001b[0m \u001b[0me\u001b[0m\u001b[0;34m:\u001b[0m\u001b[0;34m\u001b[0m\u001b[0;34m\u001b[0m\u001b[0m\n\u001b[1;32m     62\u001b[0m     \u001b[0;32mif\u001b[0m \u001b[0mname\u001b[0m \u001b[0;32mis\u001b[0m \u001b[0;32mnot\u001b[0m \u001b[0;32mNone\u001b[0m\u001b[0;34m:\u001b[0m\u001b[0;34m\u001b[0m\u001b[0;34m\u001b[0m\u001b[0m\n",
            "\u001b[0;31mResourceExhaustedError\u001b[0m:  OOM when allocating tensor with shape[32,64,600,400] and type float on /job:localhost/replica:0/task:0/device:GPU:0 by allocator GPU_0_bfc\n\t [[node model_10/block1_conv2/Relu (defined at <ipython-input-93-03a679331545>:6) ]]\nHint: If you want to see a list of allocated tensors when OOM happens, add report_tensor_allocations_upon_oom to RunOptions for current allocation info.\n [Op:__inference_train_function_118021]\n\nFunction call stack:\ntrain_function\n"
          ]
        }
      ]
    },
    {
      "cell_type": "code",
      "metadata": {
        "id": "NucRkK_zCGZg"
      },
      "source": [
        ""
      ],
      "execution_count": null,
      "outputs": []
    },
    {
      "cell_type": "code",
      "metadata": {
        "id": "ZO_GU_oXYMRN"
      },
      "source": [
        "opt = Adam(lr=learning_rate, \n",
        "           decay=learning_rate / num_epochs)\n",
        "baseModel.compile(loss=\"categorical_crossentropy\", optimizer=opt, metrics=[\"accuracy\"])"
      ],
      "execution_count": null,
      "outputs": []
    },
    {
      "cell_type": "code",
      "metadata": {
        "colab": {
          "base_uri": "https://localhost:8080/"
        },
        "id": "R3UV0qPve6ki",
        "outputId": "aa4110d7-d13e-4a8d-e486-ebf4d069a901"
      },
      "source": [
        "print(\"Steps per epoch\", trainGen.n // batch_size)\n",
        "print(\"Number of epochs\", num_epochs)\n",
        "print(\"Validation data\", valGen.n)"
      ],
      "execution_count": null,
      "outputs": [
        {
          "output_type": "stream",
          "text": [
            "Steps per epoch 21\n",
            "Number of epochs 64\n",
            "Validation data 173\n"
          ],
          "name": "stdout"
        }
      ]
    },
    {
      "cell_type": "code",
      "metadata": {
        "colab": {
          "base_uri": "https://localhost:8080/"
        },
        "id": "mPp9VkwYYOMM",
        "outputId": "a8adebab-8097-49a5-ab7b-cb10d037f3e2"
      },
      "source": [
        "train_history = baseModel.fit(trainGen,\n",
        "                   steps_per_epoch=trainGen.n // batch_size, \n",
        "                   epochs=num_epochs,\n",
        "                   validation_data=valGen,\n",
        "                   validation_steps=valGen.n // batch_size,\n",
        "                   verbose=1)"
      ],
      "execution_count": null,
      "outputs": [
        {
          "output_type": "stream",
          "text": [
            "Epoch 1/16\n",
            "43/43 [==============================] - 52s 1s/step - loss: 2.4510 - accuracy: 0.2208 - val_loss: 2.5055 - val_accuracy: 0.1625\n",
            "Epoch 2/16\n",
            "43/43 [==============================] - 42s 982ms/step - loss: 1.7763 - accuracy: 0.4064 - val_loss: 2.8124 - val_accuracy: 0.1688\n",
            "Epoch 3/16\n",
            "43/43 [==============================] - 43s 989ms/step - loss: 1.3850 - accuracy: 0.5148 - val_loss: 5.0568 - val_accuracy: 0.1875\n",
            "Epoch 4/16\n",
            "43/43 [==============================] - 43s 996ms/step - loss: 1.1422 - accuracy: 0.6097 - val_loss: 3.7314 - val_accuracy: 0.1688\n",
            "Epoch 5/16\n",
            "43/43 [==============================] - 43s 990ms/step - loss: 0.9569 - accuracy: 0.7095 - val_loss: 5.6520 - val_accuracy: 0.1688\n",
            "Epoch 6/16\n",
            "43/43 [==============================] - 43s 991ms/step - loss: 0.8251 - accuracy: 0.7266 - val_loss: 5.6694 - val_accuracy: 0.1813\n",
            "Epoch 7/16\n",
            "43/43 [==============================] - 43s 998ms/step - loss: 0.6837 - accuracy: 0.7791 - val_loss: 5.2391 - val_accuracy: 0.1750\n",
            "Epoch 8/16\n",
            "43/43 [==============================] - 43s 987ms/step - loss: 0.6945 - accuracy: 0.7735 - val_loss: 6.6059 - val_accuracy: 0.1688\n",
            "Epoch 9/16\n",
            "43/43 [==============================] - 43s 987ms/step - loss: 0.6082 - accuracy: 0.8255 - val_loss: 4.7714 - val_accuracy: 0.1688\n",
            "Epoch 10/16\n",
            "43/43 [==============================] - 43s 999ms/step - loss: 0.6449 - accuracy: 0.8146 - val_loss: 3.9345 - val_accuracy: 0.1750\n",
            "Epoch 11/16\n",
            "43/43 [==============================] - 43s 992ms/step - loss: 0.5319 - accuracy: 0.8460 - val_loss: 3.8658 - val_accuracy: 0.2313\n",
            "Epoch 12/16\n",
            "43/43 [==============================] - 43s 992ms/step - loss: 0.4897 - accuracy: 0.8596 - val_loss: 3.5239 - val_accuracy: 0.3875\n",
            "Epoch 13/16\n",
            "43/43 [==============================] - 43s 993ms/step - loss: 0.4073 - accuracy: 0.8671 - val_loss: 2.4164 - val_accuracy: 0.5063\n",
            "Epoch 14/16\n",
            "43/43 [==============================] - 43s 993ms/step - loss: 0.4259 - accuracy: 0.8655 - val_loss: 2.1274 - val_accuracy: 0.6000\n",
            "Epoch 15/16\n",
            "43/43 [==============================] - 43s 995ms/step - loss: 0.4067 - accuracy: 0.8810 - val_loss: 0.6243 - val_accuracy: 0.8188\n",
            "Epoch 16/16\n",
            "43/43 [==============================] - 43s 993ms/step - loss: 0.3682 - accuracy: 0.8854 - val_loss: 0.8115 - val_accuracy: 0.7563\n"
          ],
          "name": "stdout"
        }
      ]
    },
    {
      "cell_type": "code",
      "metadata": {
        "id": "6LnyndFFiIW4"
      },
      "source": [
        "# VERSION 2 - fit it again\n",
        "for layer in base_model.layers[0:143]:\n",
        "  layer.trainable = False\n",
        " \n",
        "for layer in base_model.layers[143:]:\n",
        "  layer.trainable = True"
      ],
      "execution_count": null,
      "outputs": []
    },
    {
      "cell_type": "code",
      "metadata": {
        "colab": {
          "base_uri": "https://localhost:8080/"
        },
        "id": "IvoVo9CxiRF-",
        "outputId": "8a935100-b288-446e-dcb3-2e261708c8f1"
      },
      "source": [
        "train_history = baseModel.fit(trainGen,\n",
        "                   steps_per_epoch=trainGen.n // batch_size, \n",
        "                   epochs=num_epochs,\n",
        "                   validation_data=valGen,\n",
        "                   validation_steps=valGen.n // batch_size,\n",
        "                   verbose=1)"
      ],
      "execution_count": null,
      "outputs": [
        {
          "output_type": "stream",
          "text": [
            "Epoch 1/10\n",
            "43/43 [==============================] - 44s 1s/step - loss: 2.2874 - accuracy: 0.1977 - val_loss: 2.2439 - val_accuracy: 0.1875\n",
            "Epoch 2/10\n",
            "43/43 [==============================] - 43s 1s/step - loss: 2.2565 - accuracy: 0.2150 - val_loss: 2.3044 - val_accuracy: 0.2000\n",
            "Epoch 3/10\n",
            "43/43 [==============================] - 43s 1s/step - loss: 2.2691 - accuracy: 0.2253 - val_loss: 2.4765 - val_accuracy: 0.1375\n",
            "Epoch 4/10\n",
            "43/43 [==============================] - 43s 999ms/step - loss: 2.2717 - accuracy: 0.2003 - val_loss: 2.2193 - val_accuracy: 0.2062\n",
            "Epoch 5/10\n",
            "43/43 [==============================] - 43s 1s/step - loss: 2.2379 - accuracy: 0.2430 - val_loss: 2.4993 - val_accuracy: 0.2062\n",
            "Epoch 6/10\n",
            "43/43 [==============================] - 43s 1s/step - loss: 2.2736 - accuracy: 0.2224 - val_loss: 2.2062 - val_accuracy: 0.2313\n",
            "Epoch 7/10\n",
            "43/43 [==============================] - 43s 1s/step - loss: 2.2722 - accuracy: 0.2003 - val_loss: 2.2371 - val_accuracy: 0.2313\n",
            "Epoch 8/10\n",
            "43/43 [==============================] - 43s 1s/step - loss: 2.2504 - accuracy: 0.2003 - val_loss: 2.3238 - val_accuracy: 0.1063\n",
            "Epoch 9/10\n",
            "43/43 [==============================] - 43s 994ms/step - loss: 2.2675 - accuracy: 0.1959 - val_loss: 2.3103 - val_accuracy: 0.1312\n",
            "Epoch 10/10\n",
            "43/43 [==============================] - 42s 989ms/step - loss: 2.2528 - accuracy: 0.1944 - val_loss: 2.3612 - val_accuracy: 0.1937\n"
          ],
          "name": "stdout"
        }
      ]
    },
    {
      "cell_type": "code",
      "metadata": {
        "id": "UsurCzI6YQ-s",
        "colab": {
          "base_uri": "https://localhost:8080/",
          "height": 374
        },
        "outputId": "2a44ff20-1834-48c5-ab15-de30ca9143e5"
      },
      "source": [
        "fig, (ax1, ax2) = plt.subplots(nrows=1, ncols=2, figsize=[16,6])\n",
        "ax1.plot(train_history.history['loss'], label='train_loss')\n",
        "ax1.plot(train_history.history['val_loss'], label='validation_loss')\n",
        "ax1.legend()\n",
        "ax2.plot(train_history.history['accuracy'], label='train_accuracy')\n",
        "ax2.plot(train_history.history['val_accuracy'], label='validation_accuracy')\n",
        "ax2.legend();"
      ],
      "execution_count": null,
      "outputs": [
        {
          "output_type": "display_data",
          "data": {
            "image/png": "[encoded data removed]",
            "text/plain": [
              "<Figure size 1152x432 with 2 Axes>"
            ]
          },
          "metadata": {
            "tags": [],
            "needs_background": "light"
          }
        }
      ]
    },
    {
      "cell_type": "code",
      "metadata": {
        "id": "QVsomorXnLyM"
      },
      "source": [
        "testGen.reset()\n",
        "predIdxs = baseModel.predict(\n",
        "    testGen,\n",
        "\t  steps=(testGen.n // batch_size) + 1)"
      ],
      "execution_count": null,
      "outputs": []
    },
    {
      "cell_type": "code",
      "metadata": {
        "id": "C6ojYG_lk0aP"
      },
      "source": [
        "# VERSION 3\n",
        "testGen.reset()\n",
        "predIdxs = model2.predict(\n",
        "    testGen,\n",
        "\t  steps=(testGen.n // batch_size) + 1)\n"
      ],
      "execution_count": null,
      "outputs": []
    },
    {
      "cell_type": "code",
      "metadata": {
        "colab": {
          "base_uri": "https://localhost:8080/"
        },
        "id": "8l77yxPzrRWw",
        "outputId": "3744ba4f-21c8-4231-e8bc-4a644a290b78"
      },
      "source": [
        "print(predIdxs)\n",
        "predIdxs = np.argmax(predIdxs, axis=1)"
      ],
      "execution_count": null,
      "outputs": [
        {
          "output_type": "stream",
          "text": [
            "[[9.6073812e-01 2.9458373e-03 3.2921348e-04 ... 2.1122906e-03\n",
            "  2.9014967e-02 2.7259006e-03]\n",
            " [3.6257264e-04 3.8831278e-03 6.7016191e-04 ... 2.1605723e-02\n",
            "  2.4281647e-03 2.7197007e-02]\n",
            " [5.1911394e-07 7.8630521e-08 3.1927244e-03 ... 3.5706194e-04\n",
            "  7.6226399e-07 6.6609993e-03]\n",
            " ...\n",
            " [3.6129859e-05 9.5474631e-01 9.2062727e-04 ... 2.0761836e-02\n",
            "  1.4215594e-03 4.4857822e-03]\n",
            " [1.6439039e-03 9.1543669e-05 2.0390267e-03 ... 2.0555117e-04\n",
            "  2.8053427e-03 1.0183118e-03]\n",
            " [6.0545797e-03 7.7401037e-06 5.5201384e-05 ... 5.8297999e-05\n",
            "  9.6265131e-01 2.9504417e-02]]\n"
          ],
          "name": "stdout"
        }
      ]
    },
    {
      "cell_type": "code",
      "metadata": {
        "colab": {
          "base_uri": "https://localhost:8080/"
        },
        "id": "ttb5D2TMrWut",
        "outputId": "52197529-85e9-402e-c911-4e7c30a0fe40"
      },
      "source": [
        "from sklearn.metrics import classification_report\n",
        "print(predIdxs)\n",
        "Y_expected = np.argmax(Y_test, axis=1)\n",
        "print(Y_expected)\n",
        "print(classification_report(Y_expected, predIdxs, zero_division=0))\t"
      ],
      "execution_count": null,
      "outputs": [
        {
          "output_type": "stream",
          "text": [
            "[0 4 3 0 6 1 7 6 3 1 6 1 8 6 6 5 9 5 5 5 1 4 7 2 5 4 0 6 4 2 2 1 0 7 7 4 6\n",
            " 1 3 6 7 3 8 8 8 1 9 3 6 8 1 6 8 1 1 2 6 1 8 7 5 7 5 9 5 7 6 0 6 1 7 7 1 1\n",
            " 0 7 0 6 8 0 3 7 4 7 8 1 0 1 6 1 3 6 1 6 8 8 3 1 6 2 7 7 5 4 1 5 0 1 6 7 0\n",
            " 1 1 8 4 4 6 8 6 3 7 3 7 7 9 6 1 2 3 5 5 6 3 7 7 9 8 7 1 5 7 8 7 1 8 4 1 5\n",
            " 3 1 4 3 1 9 8 5 1 2 3 6 1 5 4 0 4 9 9 1 1 7 1 5 7 8 7 7 5 3 1 6 6 1 5 5 4\n",
            " 6 8 1 3 3 2 1 5 5 1 7 9 9 9 0 9 6 1 1 2 5 1 2 5 9 8 1 0 1 1 1 6 8]\n",
            "[1 8 6 1 6 9 9 8 5 5 7 1 1 0 1 8 1 6 1 7 0 1 1 5 7 9 1 1 4 7 6 3 1 4 1 7 2\n",
            " 9 6 7 8 6 3 4 7 1 3 6 4 3 7 6 9 8 0 1 5 3 4 5 3 6 1 7 2 5 7 3 8 5 1 4 7 5\n",
            " 4 6 0 7 4 5 7 0 8 7 1 8 8 3 2 1 6 4 1 2 7 9 6 7 1 0 7 5 1 1 5 1 8 1 0 8 1\n",
            " 6 1 8 9 5 8 1 4 5 5 6 6 2 5 1 2 6 8 2 2 4 1 3 3 1 4 9 8 0 2 3 6 3 5 6 7 8\n",
            " 8 2 8 5 7 8 6 0 4 7 7 8 5 1 1 9 2 7 4 1 7 1 7 1 1 1 3 6 6 6 1 7 4 4 6 3 1\n",
            " 2 0 1 6 6 5 9 3 9 6 5 6 2 7 3 2 4 7 1 2 2 7 1 0 9 4 4 9 2 6 6 1 7]\n",
            "              precision    recall  f1-score   support\n",
            "\n",
            "           0       0.07      0.09      0.08        11\n",
            "           1       0.22      0.23      0.22        44\n",
            "           2       0.10      0.06      0.07        17\n",
            "           3       0.00      0.00      0.00        16\n",
            "           4       0.07      0.05      0.06        19\n",
            "           5       0.00      0.00      0.00        20\n",
            "           6       0.07      0.07      0.07        29\n",
            "           7       0.07      0.07      0.07        29\n",
            "           8       0.05      0.05      0.05        20\n",
            "           9       0.08      0.08      0.08        13\n",
            "\n",
            "    accuracy                           0.09       218\n",
            "   macro avg       0.07      0.07      0.07       218\n",
            "weighted avg       0.09      0.09      0.09       218\n",
            "\n"
          ],
          "name": "stdout"
        }
      ]
    },
    {
      "cell_type": "code",
      "metadata": {
        "id": "UXMSbftirZ_A"
      },
      "source": [
        ""
      ],
      "execution_count": null,
      "outputs": []
    }
  ]
}